{
 "cells": [
  {
   "cell_type": "markdown",
   "metadata": {},
   "source": [
    "# Given a list of integers, find all pairs of integers in the list whose sum is zero."
   ]
  },
  {
   "cell_type": "code",
   "execution_count": 2,
   "metadata": {},
   "outputs": [
    {
     "name": "stdout",
     "output_type": "stream",
     "text": [
      "[[0, 0], [3, -3], [4, -4]]\n"
     ]
    }
   ],
   "source": [
    "num_list=[2,0,3,-4,0,-3,-1,3,4,-3]\n",
    "positive_list=[]\n",
    "negative_list=[]\n",
    "# create a list to store all values \n",
    "pair_list=[]\n",
    "# split num_list into two list\n",
    "# +ve and -ve list\n",
    "for i in num_list:\n",
    "    if i>=0 and (i not in positive_list):\n",
    "        positive_list.append(i)\n",
    "    elif i<=0 and (i not in negative_list):\n",
    "        negative_list.append(i)\n",
    "# itreate element from +ve and -ve list\n",
    "for x in positive_list:\n",
    "    for j in negative_list:\n",
    "        if x+j==0:\n",
    "            pair_list.append([x,j])\n",
    "print(pair_list)"
   ]
  }
 ],
 "metadata": {
  "kernelspec": {
   "display_name": "Python 3",
   "language": "python",
   "name": "python3"
  },
  "language_info": {
   "codemirror_mode": {
    "name": "ipython",
    "version": 3
   },
   "file_extension": ".py",
   "mimetype": "text/x-python",
   "name": "python",
   "nbconvert_exporter": "python",
   "pygments_lexer": "ipython3",
   "version": "3.12.0"
  }
 },
 "nbformat": 4,
 "nbformat_minor": 2
}
