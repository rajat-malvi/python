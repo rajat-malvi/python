{
 "cells": [
  {
   "cell_type": "markdown",
   "metadata": {},
   "source": [
    "# Given a list of positive integers, find the factorial of all the numbers."
   ]
  },
  {
   "cell_type": "code",
   "execution_count": null,
   "metadata": {},
   "outputs": [
    {
     "name": "stdout",
     "output_type": "stream",
     "text": [
      "[2, 6, 24, 120, 720, 5040, 1, 1]\n"
     ]
    }
   ],
   "source": [
    "lst=[2,3,4,5,6,7,1]\n",
    "# creat list that append all fectorials in new list\n",
    "fectorial_list=[]\n",
    "# run foor loop to itrete all integer in the list.\n",
    "for x in lst:\n",
    "    fect=1\n",
    "    # for loop use so it itrete all numbers up to x(that itrete in first loop)\n",
    "    for i in range(2,x+1):\n",
    "        fect*=i\n",
    "    fectorial_list.append(fect)\n",
    "print(fectorial_list)"
   ]
  },
  {
   "cell_type": "code",
   "execution_count": null,
   "metadata": {},
   "outputs": [],
   "source": []
  }
 ],
 "metadata": {
  "kernelspec": {
   "display_name": "Python 3",
   "language": "python",
   "name": "python3"
  },
  "language_info": {
   "codemirror_mode": {
    "name": "ipython",
    "version": 3
   },
   "file_extension": ".py",
   "mimetype": "text/x-python",
   "name": "python",
   "nbconvert_exporter": "python",
   "pygments_lexer": "ipython3",
   "version": "3.11.4"
  }
 },
 "nbformat": 4,
 "nbformat_minor": 2
}
