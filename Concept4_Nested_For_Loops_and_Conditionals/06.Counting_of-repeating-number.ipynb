{
 "cells": [
  {
   "cell_type": "markdown",
   "metadata": {},
   "source": [
    "# Given a list of numbers, find out how many times each number occurs in the list."
   ]
  },
  {
   "cell_type": "code",
   "execution_count": 2,
   "metadata": {},
   "outputs": [
    {
     "name": "stdout",
     "output_type": "stream",
     "text": [
      "[[2, 2], [4, 2], [5, 1], [3, 1], [6, 1]]\n"
     ]
    }
   ],
   "source": [
    "num_list=[2,4,5,4,3,2,6]\n",
    "count_list=[]\n",
    "# itret number from num_list for counting\n",
    "for i in num_list:\n",
    "    count=0\n",
    "    # we need only 2 position list_num[(1st is number),(2nd is number of times comes number)]\n",
    "    list_num=[0,0]\n",
    "    # again use for loop for comparing number\n",
    "    for x in num_list:\n",
    "        if i==x:\n",
    "            count+=1\n",
    "        list_num[0]=i\n",
    "        list_num[1]=count\n",
    "    # for nummber not repeat we use 'not in' operator \n",
    "    if list_num not in count_list:\n",
    "        count_list.append(list_num)\n",
    "print(count_list)"
   ]
  }
 ],
 "metadata": {
  "kernelspec": {
   "display_name": "Python 3",
   "language": "python",
   "name": "python3"
  },
  "language_info": {
   "codemirror_mode": {
    "name": "ipython",
    "version": 3
   },
   "file_extension": ".py",
   "mimetype": "text/x-python",
   "name": "python",
   "nbconvert_exporter": "python",
   "pygments_lexer": "ipython3",
   "version": "3.12.0"
  }
 },
 "nbformat": 4,
 "nbformat_minor": 2
}
