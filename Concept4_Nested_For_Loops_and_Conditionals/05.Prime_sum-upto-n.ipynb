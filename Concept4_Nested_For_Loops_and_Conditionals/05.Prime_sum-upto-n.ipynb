{
 "cells": [
  {
   "cell_type": "markdown",
   "metadata": {},
   "source": [
    "# Given a positive integers, find out the sum of all prime numbers from 1 up to this number."
   ]
  },
  {
   "cell_type": "code",
   "execution_count": 1,
   "metadata": {},
   "outputs": [
    {
     "name": "stdout",
     "output_type": "stream",
     "text": [
      "17\n"
     ]
    }
   ],
   "source": [
    "num1=10\n",
    "# for sum we can create sum_ variable with value zero\n",
    "sum_=0\n",
    "# to check prime number initilaise for loop from Two to num1. \n",
    "for i in range(2,num1+1):\n",
    "    # create a extrea varriable that use futher to check prime number condition\n",
    "    a=0\n",
    "    num_root=int(i**0.5)\n",
    "    # run for loop only upto root of number it's enough.\n",
    "    for x in range(2,num_root+1):\n",
    "        # if condition true then it is not prime\n",
    "        if i%x==0:\n",
    "            a+=1\n",
    "        # if above condition false then satisfie this condition\n",
    "    if a==0:\n",
    "        sum_+=i\n",
    "print(sum_)"
   ]
  }
 ],
 "metadata": {
  "kernelspec": {
   "display_name": "Python 3",
   "language": "python",
   "name": "python3"
  },
  "language_info": {
   "codemirror_mode": {
    "name": "ipython",
    "version": 3
   },
   "file_extension": ".py",
   "mimetype": "text/x-python",
   "name": "python",
   "nbconvert_exporter": "python",
   "pygments_lexer": "ipython3",
   "version": "3.12.0"
  }
 },
 "nbformat": 4,
 "nbformat_minor": 2
}
