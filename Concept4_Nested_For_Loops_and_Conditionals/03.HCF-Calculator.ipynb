{
 "cells": [
  {
   "cell_type": "markdown",
   "metadata": {},
   "source": [
    "# Given two numbers, find its Greatest Common Divisor (Divisor)."
   ]
  },
  {
   "cell_type": "code",
   "execution_count": 2,
   "metadata": {},
   "outputs": [
    {
     "name": "stdout",
     "output_type": "stream",
     "text": [
      "4\n"
     ]
    }
   ],
   "source": [
    "num1=12\n",
    "num2=4\n",
    "# for greatest common divisor\n",
    "# it comes in range 1 to small number\n",
    "min_num=min(num1,num2)\n",
    "# itrete all number from 1 to minimum_number+1\n",
    "for i in range(1,min_num+1):\n",
    "    # if i is completly divide both numbers\n",
    "    # then it's chance to made hcf is increse.\n",
    "    if num1%i==0 and num2%i==0:\n",
    "        # use variable that can store greatest divisor by the help of loop\n",
    "        var=i\n",
    "print(var)\n"
   ]
  }
 ],
 "metadata": {
  "kernelspec": {
   "display_name": "Python 3",
   "language": "python",
   "name": "python3"
  },
  "language_info": {
   "codemirror_mode": {
    "name": "ipython",
    "version": 3
   },
   "file_extension": ".py",
   "mimetype": "text/x-python",
   "name": "python",
   "nbconvert_exporter": "python",
   "pygments_lexer": "ipython3",
   "version": "3.12.0"
  }
 },
 "nbformat": 4,
 "nbformat_minor": 2
}
