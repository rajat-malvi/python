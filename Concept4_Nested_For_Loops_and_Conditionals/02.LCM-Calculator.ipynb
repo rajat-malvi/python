{
 "cells": [
  {
   "cell_type": "markdown",
   "metadata": {},
   "source": [
    "# Given two numbers, find its Least Common Multiple (LCM)."
   ]
  },
  {
   "cell_type": "code",
   "execution_count": 2,
   "metadata": {},
   "outputs": [
    {
     "name": "stdout",
     "output_type": "stream",
     "text": [
      "4\n"
     ]
    }
   ],
   "source": [
    "num1=4\n",
    "num2=2\n",
    "# for lcm(least common multiple) of Two number\n",
    "# first find maximu number\n",
    "# then find product of numbers\n",
    "\n",
    "max_num=num2\n",
    "if num1>num2:\n",
    "    max_num=num1\n",
    "pdt=num1*num2\n",
    "# for least common multiple initialise from greater_number to (list_number-1)\n",
    "for i in range(pdt,max_num-1,-1):\n",
    "    # if both num1 and num2 completly divide by itreating number.\n",
    "    # then it's chances increase to make lcm of these numbers\n",
    "    if i%num1==0 and i%num2==0:\n",
    "        # a variable use that store the least common multiple \n",
    "        var=i\n",
    "print(var)"
   ]
  }
 ],
 "metadata": {
  "kernelspec": {
   "display_name": "Python 3",
   "language": "python",
   "name": "python3"
  },
  "language_info": {
   "codemirror_mode": {
    "name": "ipython",
    "version": 3
   },
   "file_extension": ".py",
   "mimetype": "text/x-python",
   "name": "python",
   "nbconvert_exporter": "python",
   "pygments_lexer": "ipython3",
   "version": "3.12.0"
  }
 },
 "nbformat": 4,
 "nbformat_minor": 2
}
