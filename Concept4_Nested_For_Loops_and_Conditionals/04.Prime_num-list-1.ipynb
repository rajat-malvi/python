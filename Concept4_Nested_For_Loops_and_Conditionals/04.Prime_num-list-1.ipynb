{
 "cells": [
  {
   "cell_type": "markdown",
   "metadata": {},
   "source": [
    "# Given a positive integer, find out all prime numbers from 1 up to this number."
   ]
  },
  {
   "cell_type": "code",
   "execution_count": 1,
   "metadata": {},
   "outputs": [
    {
     "name": "stdout",
     "output_type": "stream",
     "text": [
      "[2, 3, 5]\n"
     ]
    }
   ],
   "source": [
    "num1=5\n",
    "# create a list that store the prime numbers \n",
    "prime_list=[]\n",
    "for i in range(2,num1+1):\n",
    "    # I assume a veriable a=0 with this help to procced the programe\n",
    "    a=0\n",
    "    num_root=int(i**0.5)\n",
    "    for x in range(2,num_root+1):    # I run a loop from 2 so, 1 will not count b/c one is not prime\n",
    "        if i%x==0:\n",
    "            a+=1\n",
    "    #if above condition is not satisfy\n",
    "    # then it is prime number\n",
    "    # then the element satisfy below the condition.\n",
    "    if a==0:\n",
    "        prime_list.append(i)\n",
    "print(prime_list)"
   ]
  }
 ],
 "metadata": {
  "kernelspec": {
   "display_name": "Python 3",
   "language": "python",
   "name": "python3"
  },
  "language_info": {
   "codemirror_mode": {
    "name": "ipython",
    "version": 3
   },
   "file_extension": ".py",
   "mimetype": "text/x-python",
   "name": "python",
   "nbconvert_exporter": "python",
   "pygments_lexer": "ipython3",
   "version": "3.12.0"
  }
 },
 "nbformat": 4,
 "nbformat_minor": 2
}
