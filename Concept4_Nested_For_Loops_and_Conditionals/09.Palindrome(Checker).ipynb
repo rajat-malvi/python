{
 "cells": [
  {
   "cell_type": "markdown",
   "metadata": {},
   "source": [
    "# Given a string input, find out if it’s a palindrome."
   ]
  },
  {
   "cell_type": "code",
   "execution_count": 3,
   "metadata": {},
   "outputs": [
    {
     "name": "stdout",
     "output_type": "stream",
     "text": [
      "False\n"
     ]
    }
   ],
   "source": [
    "string=input(\"enter a string\")\n",
    "string_len_half=len(string)//2\n",
    "count=0\n",
    "# use for loop to acces the index from one to half\n",
    "for i in range(string_len_half):\n",
    "    # use for loop to acces index in reverse order\n",
    "    for j in range(len(string)-1,string_len_half-1,-1):\n",
    "        # check last and first element\n",
    "        if string[i]==string[j]:\n",
    "            count+=1\n",
    "# check if half of string is equal to half of string from last\n",
    "# then it is palindrome\n",
    "if count==string_len_half:\n",
    "    print(True)\n",
    "else:\n",
    "    print(False)           "
   ]
  }
 ],
 "metadata": {
  "kernelspec": {
   "display_name": "Python 3",
   "language": "python",
   "name": "python3"
  },
  "language_info": {
   "codemirror_mode": {
    "name": "ipython",
    "version": 3
   },
   "file_extension": ".py",
   "mimetype": "text/x-python",
   "name": "python",
   "nbconvert_exporter": "python",
   "pygments_lexer": "ipython3",
   "version": "3.12.0"
  }
 },
 "nbformat": 4,
 "nbformat_minor": 2
}
