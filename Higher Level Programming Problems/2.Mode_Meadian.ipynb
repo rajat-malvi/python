{
 "cells": [
  {
   "cell_type": "markdown",
   "metadata": {},
   "source": [
    "# Given a list of numbers, find out the median and mode."
   ]
  },
  {
   "cell_type": "code",
   "execution_count": 21,
   "metadata": {},
   "outputs": [
    {
     "name": "stdout",
     "output_type": "stream",
     "text": [
      "[1, 2, 2, 2, 3, 3, 3, 6, 7, 7]\n",
      "{'mode': [2, 3], 'median': 3.0}\n"
     ]
    }
   ],
   "source": [
    "list_num=[1,3,2,3,6,7,7,3,2,2]\n",
    "list1=[]        # show number +nt in list_num\n",
    "mode_list=[]    # show frequency of number\n",
    "mode_dict={}    # show number with their frequency of number  \n",
    "my_dict={}      # use to show final\n",
    "# we need sorting of list\n",
    "# use concept of sweping of number\n",
    "for i in range(len(list_num)):\n",
    "    for j in range(i+1,len(list_num)):\n",
    "        if list_num[i]>list_num[j]:\n",
    "            list_num[i],list_num[j]=list_num[j],list_num[i]\n",
    "print(list_num)\n",
    "\n",
    "# for mode\n",
    "# for add all number in dictionary with their frequency\n",
    "for i in list_num:\n",
    "    if i not in list1:\n",
    "        list1.append(i)\n",
    "        count=0\n",
    "        for j in list_num:\n",
    "            if i==j:\n",
    "                count+=1\n",
    "        mode_dict[i]=count\n",
    "# print(mode_dict)\n",
    "\n",
    "# for mode we need to find maximum number\n",
    "max_value=0\n",
    "for value in mode_dict.values():\n",
    "    if value>max_value:\n",
    "        max_value=value\n",
    "# print(max_value)\n",
    "\n",
    "# to find we need to find all element that come more frequently\n",
    "for key,value in mode_dict.items():\n",
    "    if max_value==value:\n",
    "        mode_list.append(key)\n",
    "my_dict['mode']=mode_list  # we add mode in dict\n",
    "# print(mode_list)\n",
    "\n",
    "# for meadian\n",
    "if len(list_num)%2==0:\n",
    "    # we konw the index start from 0 in list.\n",
    "    # so median is n//2 instead n//2\n",
    "    my_dict['median']=(list_num[len(list_num)//2]+list_num[(len(list_num)//2-1)])/2  # when two number are median then take avrage \n",
    "else:\n",
    "    my_dict['median']=list_num[len(list_num)//2]\n",
    "    \n",
    "print(my_dict)"
   ]
  }
 ],
 "metadata": {
  "kernelspec": {
   "display_name": "Python 3",
   "language": "python",
   "name": "python3"
  },
  "language_info": {
   "codemirror_mode": {
    "name": "ipython",
    "version": 3
   },
   "file_extension": ".py",
   "mimetype": "text/x-python",
   "name": "python",
   "nbconvert_exporter": "python",
   "pygments_lexer": "ipython3",
   "version": "3.12.0"
  }
 },
 "nbformat": 4,
 "nbformat_minor": 2
}
