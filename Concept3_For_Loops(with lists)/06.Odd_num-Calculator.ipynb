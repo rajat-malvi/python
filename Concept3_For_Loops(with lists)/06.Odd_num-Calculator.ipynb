{
 "cells": [
  {
   "cell_type": "markdown",
   "metadata": {},
   "source": [
    "# Given a list of numbers, find all the odd numbers in it."
   ]
  },
  {
   "cell_type": "code",
   "execution_count": 1,
   "metadata": {},
   "outputs": [
    {
     "name": "stdout",
     "output_type": "stream",
     "text": [
      "[1, 5, 3, 9]\n"
     ]
    }
   ],
   "source": [
    "lst=[1,2,0,4,6,5,3,9]\n",
    "# to find odd number list we create a empty list\n",
    "odd_list=[]\n",
    "for i in lst:\n",
    "    # use if condition to check number is odd or not. \n",
    "    if i%2!=0:\n",
    "        odd_list.append(i)\n",
    "print(odd_list)"
   ]
  }
 ],
 "metadata": {
  "kernelspec": {
   "display_name": "Python 3",
   "language": "python",
   "name": "python3"
  },
  "language_info": {
   "codemirror_mode": {
    "name": "ipython",
    "version": 3
   },
   "file_extension": ".py",
   "mimetype": "text/x-python",
   "name": "python",
   "nbconvert_exporter": "python",
   "pygments_lexer": "ipython3",
   "version": "3.11.4"
  }
 },
 "nbformat": 4,
 "nbformat_minor": 2
}
