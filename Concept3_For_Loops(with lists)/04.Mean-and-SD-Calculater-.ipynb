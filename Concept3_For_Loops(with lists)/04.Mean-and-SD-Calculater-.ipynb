{
 "cells": [
  {
   "cell_type": "markdown",
   "metadata": {},
   "source": [
    "# Given a list of numbers, find out the mean and standard deviation."
   ]
  },
  {
   "cell_type": "code",
   "execution_count": 5,
   "metadata": {},
   "outputs": [
    {
     "name": "stdout",
     "output_type": "stream",
     "text": [
      "Mean is: 4.0 \t Standard-deviation is: 1.4142135623730951\n"
     ]
    }
   ],
   "source": [
    "lst=[2,3,4,5,6]\n",
    "# for add all numbers create a num_sum variable \n",
    "num_sum=0\n",
    "# for all square of all the numbers create a num_sum_square variable \n",
    "num_sum_square=0\n",
    "# to count number of elements in list create a count variable\n",
    "count=0\n",
    "for i in lst:\n",
    "    num_sum+=i\n",
    "    count+=1\n",
    "    num_sum_square+=i**2\n",
    "# for standerd deviation we direct write the formula. \n",
    "print(\"Mean is:\", num_sum/count,\"\\t\",\"Standard-deviation is:\",((num_sum_square/count)-(num_sum/count)**2)**0.5)"
   ]
  }
 ],
 "metadata": {
  "kernelspec": {
   "display_name": "Python 3",
   "language": "python",
   "name": "python3"
  },
  "language_info": {
   "codemirror_mode": {
    "name": "ipython",
    "version": 3
   },
   "file_extension": ".py",
   "mimetype": "text/x-python",
   "name": "python",
   "nbconvert_exporter": "python",
   "pygments_lexer": "ipython3",
   "version": "3.11.4"
  }
 },
 "nbformat": 4,
 "nbformat_minor": 2
}
