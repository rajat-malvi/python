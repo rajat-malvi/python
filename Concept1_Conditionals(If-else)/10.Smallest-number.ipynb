{
 "cells": [
  {
   "cell_type": "markdown",
   "metadata": {},
   "source": [
    "# Given three integers, find the smallest one."
   ]
  },
  {
   "cell_type": "code",
   "execution_count": 6,
   "metadata": {},
   "outputs": [
    {
     "name": "stdout",
     "output_type": "stream",
     "text": [
      "smallest number is: 3\n"
     ]
    }
   ],
   "source": [
    "num1=int(input(\"Enter int1\"))\n",
    "num2=int(input(\"Enter int2\"))\n",
    "num3=int(input(\"Enter int3\"))\n",
    "# for check smallest we use comparison operator\n",
    "if num3>num1 and num2>num1:\n",
    "        print(\"smallest number is:\",num1)\n",
    "# we not use again num1>num2 because we already check in if condition\n",
    "elif num3>num2:\n",
    "    print(\"smallest number is:\",num2)\n",
    "else:\n",
    "    print(\"smallest number is:\",num3)"
   ]
  }
 ],
 "metadata": {
  "kernelspec": {
   "display_name": "Python 3",
   "language": "python",
   "name": "python3"
  },
  "language_info": {
   "codemirror_mode": {
    "name": "ipython",
    "version": 3
   },
   "file_extension": ".py",
   "mimetype": "text/x-python",
   "name": "python",
   "nbconvert_exporter": "python",
   "pygments_lexer": "ipython3",
   "version": "3.11.4"
  }
 },
 "nbformat": 4,
 "nbformat_minor": 2
}
