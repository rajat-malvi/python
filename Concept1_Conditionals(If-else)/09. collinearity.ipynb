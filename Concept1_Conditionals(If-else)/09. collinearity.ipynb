{
 "cells": [
  {
   "cell_type": "markdown",
   "metadata": {},
   "source": [
    "# Given three points, find out whether they lie on the same straight line or not."
   ]
  },
  {
   "cell_type": "code",
   "execution_count": 2,
   "metadata": {},
   "outputs": [
    {
     "name": "stdout",
     "output_type": "stream",
     "text": [
      "point's are not! lie on same 'straight' line\n"
     ]
    }
   ],
   "source": [
    "# doing by multiple type\n",
    "# by showing determinet=0\n",
    "# by comparing slop\n",
    "\n",
    "# (x1,y1)\n",
    "x1=int(input(\"enter x1: \"))\n",
    "y1=int(input(\"enter y1: \"))\n",
    "# (x2,y2)\n",
    "x2=int(input(\"enter x2: \"))\n",
    "y2=int(input(\"enter y2: \"))\n",
    "# (x3,y3)\n",
    "x3=int(input(\"enter x3: \"))\n",
    "y3=int(input(\"enter y3: \"))\n",
    "# here we check collinearity by using determinent'D'\n",
    "D= y1*(x2-x3)-y2*(x1-x3)+y3*(x1-x2)\n",
    "if D==0:\n",
    "    print(\"point's are lie on same 'straight' line\")\n",
    "else:\n",
    "    print(\"point's are not! lie on same 'straight' line\")"
   ]
  }
 ],
 "metadata": {
  "kernelspec": {
   "display_name": "Python 3",
   "language": "python",
   "name": "python3"
  },
  "language_info": {
   "codemirror_mode": {
    "name": "ipython",
    "version": 3
   },
   "file_extension": ".py",
   "mimetype": "text/x-python",
   "name": "python",
   "nbconvert_exporter": "python",
   "pygments_lexer": "ipython3",
   "version": "3.11.4"
  }
 },
 "nbformat": 4,
 "nbformat_minor": 2
}
