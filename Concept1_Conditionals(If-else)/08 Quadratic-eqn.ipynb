{
 "cells": [
  {
   "cell_type": "markdown",
   "metadata": {},
   "source": [
    "# Given a quadratic equation with coefficients a, b and c, find the two solutions (may be real or complex). You should not take the square root of a negative number in your code."
   ]
  },
  {
   "cell_type": "code",
   "execution_count": 2,
   "metadata": {},
   "outputs": [
    {
     "name": "stdout",
     "output_type": "stream",
     "text": [
      "the roots are:  -0.3333333333333333 and -1.0\n"
     ]
    }
   ],
   "source": [
    "a = int(input(\"enter a: \"))\n",
    "b = int(input(\"enter b: \"))\n",
    "c = int(input(\"enter c: \"))\n",
    "D = b**2 - 4*a*c\n",
    "e=D**0.5\n",
    "if D>0:\n",
    "    print(\"the roots are: \",(-b+e)/(2*a),\"and\",(-b-e)/(2*a))\n",
    "elif D==0:\n",
    "    print(\"root is: \",-b/(2*a))\n",
    "else:\n",
    "    print(\"roots are complex\")\n",
    "    print(\"real part:\",-b/(2*a))\n",
    "    print(\"complex part:\",((4*a*c-b*2)**0.5)/(2*a))  # root are complex so write 4ac-b**2 insted of b**2-4ac"
   ]
  }
 ],
 "metadata": {
  "kernelspec": {
   "display_name": "Python 3",
   "language": "python",
   "name": "python3"
  },
  "language_info": {
   "codemirror_mode": {
    "name": "ipython",
    "version": 3
   },
   "file_extension": ".py",
   "mimetype": "text/x-python",
   "name": "python",
   "nbconvert_exporter": "python",
   "pygments_lexer": "ipython3",
   "version": "3.11.4"
  }
 },
 "nbformat": 4,
 "nbformat_minor": 2
}
