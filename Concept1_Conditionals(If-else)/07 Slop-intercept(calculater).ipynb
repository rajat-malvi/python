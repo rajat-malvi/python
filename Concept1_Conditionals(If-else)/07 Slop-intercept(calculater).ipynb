{
 "cells": [
  {
   "cell_type": "markdown",
   "metadata": {},
   "source": [
    "# Given two points (x1, y1) and (x2, y2), find the slope and intercept of the line joining these two points (the line may be perfectly horizontal or vertical)."
   ]
  },
  {
   "cell_type": "code",
   "execution_count": 4,
   "metadata": {},
   "outputs": [
    {
     "name": "stdout",
     "output_type": "stream",
     "text": [
      "slope of line is: undefined\n",
      "intercept of the line is 4.0\n"
     ]
    }
   ],
   "source": [
    "# by taking multiple inputs\n",
    "# (x1,y1)\n",
    "x1=float(input(\"Enter x1\"))\n",
    "y1=float(input(\"Enter y1\"))\n",
    "# (x2,y2)\n",
    "x2=float(input(\"Enter x2\"))\n",
    "y2=float(input(\"Enter y2\"))\n",
    "if x1-x2==0:\n",
    "    print(\"slope of line is: undefined\")\n",
    "    print(\"intercept of the line is\",y1)\n",
    "else:\n",
    "    print(\"slope is:\",(y2-y1)/(x2-x1))\n",
    "    print(\"intercept of the line is\",y1-((y2-y1)/(x2-x1))*x1)"
   ]
  },
  {
   "cell_type": "code",
   "execution_count": null,
   "metadata": {},
   "outputs": [],
   "source": []
  }
 ],
 "metadata": {
  "kernelspec": {
   "display_name": "Python 3",
   "language": "python",
   "name": "python3"
  },
  "language_info": {
   "codemirror_mode": {
    "name": "ipython",
    "version": 3
   },
   "file_extension": ".py",
   "mimetype": "text/x-python",
   "name": "python",
   "nbconvert_exporter": "python",
   "pygments_lexer": "ipython3",
   "version": "3.11.4"
  }
 },
 "nbformat": 4,
 "nbformat_minor": 2
}
