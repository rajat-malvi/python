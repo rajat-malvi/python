{
 "cells": [
  {
   "cell_type": "markdown",
   "metadata": {},
   "source": [
    "# Given a point (x1, y1), find the quadrant in which this point lies."
   ]
  },
  {
   "cell_type": "code",
   "execution_count": 5,
   "metadata": {},
   "outputs": [
    {
     "name": "stdout",
     "output_type": "stream",
     "text": [
      "(1.0, 0.0) lie on '+ve' x-axis\n"
     ]
    }
   ],
   "source": [
    "#x, y are the variabels 0f coordinate\n",
    "x=float(input(\"enter abssisa number: \"))\n",
    "y=float(input(\"eneter second number: \"))\n",
    "#to represent qudrent we use if-else statement\n",
    "if x>0:\n",
    "    if y>0:\n",
    "        print((x,y),\"lie in 1st quadrent\")\n",
    "    elif y==0:\n",
    "        print((x,y),\"lie on '+ve' x-axis\")\n",
    "    else:\n",
    "        print((x,y),\"lie in 4th quadrent\")\n",
    "elif x<0:\n",
    "    if y>0:\n",
    "        print((x,y),\"lie in 2st quadrent\")\n",
    "    elif y==0:\n",
    "        print((x,y),\"lie on '-ve' x-axis\")\n",
    "    else:\n",
    "        print((x,y),\"lie in 3rd quadrent\")\n",
    "else:\n",
    "    if y>0:\n",
    "        print((x,y),\"lie on '+ve' y-axis\")\n",
    "    elif y==0:\n",
    "        print((x,y),\"origin\")\n",
    "    else:\n",
    "        print((x,y),\"lie on '-ve' y-axis\")"
   ]
  },
  {
   "cell_type": "code",
   "execution_count": null,
   "metadata": {},
   "outputs": [],
   "source": []
  }
 ],
 "metadata": {
  "kernelspec": {
   "display_name": "Python 3",
   "language": "python",
   "name": "python3"
  },
  "language_info": {
   "codemirror_mode": {
    "name": "ipython",
    "version": 3
   },
   "file_extension": ".py",
   "mimetype": "text/x-python",
   "name": "python",
   "nbconvert_exporter": "python",
   "pygments_lexer": "ipython3",
   "version": "3.11.4"
  }
 },
 "nbformat": 4,
 "nbformat_minor": 2
}
