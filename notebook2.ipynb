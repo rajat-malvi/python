{
 "cells": [
  {
   "cell_type": "markdown",
   "metadata": {},
   "source": [
    "1. Given two numbers a and b, find a/b (b could be zero)"
   ]
  },
  {
   "cell_type": "code",
   "execution_count": 2,
   "metadata": {},
   "outputs": [
    {
     "name": "stdout",
     "output_type": "stream",
     "text": [
      "0.6071428571428571\n"
     ]
    }
   ],
   "source": [
    "#a and b are 2 variables that perform task of a/b\n",
    "#if b=0 then a/b=not-defind\n",
    "#so, directly us 'a/b' in print statement \n",
    "a=float(input(\"enter first number: \"))\n",
    "b=float(input(\"eneter second number: \"))\n",
    "if b==0:\n",
    "    print(\"undefined\")\n",
    "else:\n",
    "    print(a/b)"
   ]
  },
  {
   "cell_type": "markdown",
   "metadata": {},
   "source": [
    "2. given a point in 2D space,find the quadrent in which it lies"
   ]
  },
  {
   "cell_type": "code",
   "execution_count": 1,
   "metadata": {},
   "outputs": [
    {
     "name": "stdout",
     "output_type": "stream",
     "text": [
      "the coordinate's are lie in 4th quadrent\n"
     ]
    }
   ],
   "source": [
    "#x, y are the variabls 0f coordinate\n",
    "x=float(input(\"enter x: \"))\n",
    "print(\"x is: \",x)\n",
    "y=float(input(\"enter y: \"))\n",
    "print(\"y is: \",y)\n",
    "#for represent qudrent we use nested if-else statement's\n",
    "if x>0:\n",
    "    if y>0:\n",
    "        print(\"the coordinate lie in 1st quadrent\")\n",
    "    elif y==0:\n",
    "        print(\"the coordinate lie on positive-x-axis\")\n",
    "    else:\n",
    "        print(\"the coordinate's are lie in 4th quadrent\")\n",
    "elif x<0:\n",
    "    if y>0:\n",
    "        print(\"the coordinate's lie in 2st quadrent\")\n",
    "    elif y==0:\n",
    "        print(\"the coordinate's lie on negative-x-axis\")\n",
    "    else:\n",
    "        print(\"the coordinate's lie in 3rd quadrent\")\n",
    "else:\n",
    "    if y>0:\n",
    "        print(\"the coordinate's lie on positive-y-axis\")\n",
    "    elif y==0:\n",
    "        print(\"Origin\")\n",
    "    else:\n",
    "        print(\"the coordinate's lie on negative-y-axis\")\n"
   ]
  },
  {
   "cell_type": "markdown",
   "metadata": {},
   "source": [
    "3. Given two points in 2D space, find the slope and y-intercept of the line joining them. consider all cases"
   ]
  },
  {
   "cell_type": "code",
   "execution_count": 9,
   "metadata": {},
   "outputs": [
    {
     "name": "stdout",
     "output_type": "stream",
     "text": [
      "x1 is:  2\n",
      "y1 is:  3\n",
      "x2 is:  67\n",
      "y2 is:  89\n",
      "the slope of the line is:  1.323076923076923\n",
      "the y-intersept of the line is: 0.3538461538461539\n"
     ]
    }
   ],
   "source": [
    "#for given condition we reqired 2 cordinates\n",
    "#1st cordinate\n",
    "x1=int(input(\"enter x1: \"))\n",
    "print(\"x1 is: \",x1)\n",
    "y1=int(input(\"enter y1: \"))\n",
    "print(\"y1 is: \",y1)\n",
    "#2nd cordinate\n",
    "x2=int(input(\"enter x2: \"))\n",
    "print(\"x2 is: \",x2)\n",
    "y2=int(input(\"eneter y2: \"))\n",
    "print(\"y2 is: \",y2)\n",
    "if (x2-x1)==0:\n",
    "    print(\"the slope lies on y-axis\")\n",
    "    print(\"y-intercept is zero\")\n",
    "else:\n",
    "    #to find slope we use slope formula\n",
    "    print(\"the slope of the line is: \",(y2-y1)/(x2-x1))\n",
    "    #for y-intercept we use y = mx +c where 'c' is y-intercept        \n",
    "    print(\"the y-intersept of the line is:\", y1-((y2-y1)/(x2-x1))*x1)"
   ]
  },
  {
   "cell_type": "markdown",
   "metadata": {},
   "source": [
    "4. give a tempreture in fahrenheit,convert it to celsis. if the tempreture is below 10 degree celcius output cold, between 10 and 25 output pleasent,between 25 and 35 output warm,and above 35 output hot."
   ]
  },
  {
   "cell_type": "code",
   "execution_count": 6,
   "metadata": {},
   "outputs": [
    {
     "name": "stdout",
     "output_type": "stream",
     "text": [
      "tempreture is: 798\n",
      "hot\n"
     ]
    }
   ],
   "source": [
    "f=int(input(\"enter the tempreture in fahrenheit:\" ))\n",
    "print(\"tempreture is:\",f)\n",
    "#use f to c conversion formula (\"search on google\")\n",
    "#use 'and' operator for simplicity and put the given value's\n",
    "c= (5/9)*(f-32)\n",
    "if c<10:\n",
    "    print(\"cold\")\n",
    "elif c>=10 and c<25:\n",
    "    print(\"pleasent\")\n",
    "elif c>=25 and c<35:\n",
    "    print(\"warm\")\n",
    "else:\n",
    "    print(\"hot\")"
   ]
  },
  {
   "cell_type": "markdown",
   "metadata": {},
   "source": [
    "5. Given a quadretic equation with cofficient a,b and c, find the two solutions (may be real or complex). you should not take the square root of a negative number in your code."
   ]
  },
  {
   "cell_type": "code",
   "execution_count": 11,
   "metadata": {},
   "outputs": [
    {
     "name": "stdout",
     "output_type": "stream",
     "text": [
      "cofficent of x**2:  34\n",
      "cofficent of x:  36\n",
      "intercept is:  76\n",
      "real part:  -0.5294117647058824\n",
      "imagnery part:  1.4898735461075223\n"
     ]
    }
   ],
   "source": [
    "a= int(input(\"enter cofficent of x**2: \"))\n",
    "print(\"cofficent of x**2: \",a)\n",
    "b= int(input(\"enter cofficent of x: \"))\n",
    "print(\"cofficent of x: \",b)\n",
    "c= int(input(\"enter value of constent: \"))\n",
    "print(\"constent is: \",c)\n",
    "#here we decleare 'd' and 'D'--> discriminant\n",
    "d= b**2 - 4*a*c\n",
    "D=d**0.5\n",
    "if D>0:\n",
    "    print(\"the roots are: \",(-b+D)/(2*a),(-b-D)/(2*a))\n",
    "elif D==0:\n",
    "    print(\"roots are equal: \",-b/(2*a))\n",
    "else:\n",
    "    print(\"real part: \",-b/(2*a))\n",
    "    print(\"imagnery part: \",((4*a*c-b*2)**0.5)/(2*a))"
   ]
  },
  {
   "cell_type": "markdown",
   "metadata": {},
   "source": [
    "6.Given three points, find out whether they lie on the same straight line or not"
   ]
  },
  {
   "cell_type": "code",
   "execution_count": 7,
   "metadata": {},
   "outputs": [
    {
     "name": "stdout",
     "output_type": "stream",
     "text": [
      "point's are not lie on same line\n"
     ]
    }
   ],
   "source": [
    "#coordinate 1st\n",
    "x1=int(input(\"enter x1: \"))\n",
    "y1=int(input(\"enter y1: \"))\n",
    "#coordinate 2nd\n",
    "x2=int(input(\"enter x2: \"))\n",
    "y2=int(input(\"enter y2: \"))\n",
    "#coordinate 3rd\n",
    "x3=int(input(\"enter x3: \"))\n",
    "y3=int(input(\"enter y3: \"))\n",
    "#here we check collinearity by using determinent'D'\n",
    "#About determinent and collinearity (search on google)\n",
    "D= y1*(x2-x3)-y2*(x1-x3)+y3*(x1-x2)\n",
    "if D==0:\n",
    "    print(\"point's are lie on same 'straight' line\")\n",
    "else:\n",
    "    print(\"point's are not lie on same 'straight' line\")"
   ]
  }
 ],
 "metadata": {
  "kernelspec": {
   "display_name": "Python 3",
   "language": "python",
   "name": "python3"
  },
  "language_info": {
   "codemirror_mode": {
    "name": "ipython",
    "version": 3
   },
   "file_extension": ".py",
   "mimetype": "text/x-python",
   "name": "python",
   "nbconvert_exporter": "python",
   "pygments_lexer": "ipython3",
   "version": "3.11.4"
  },
  "orig_nbformat": 4
 },
 "nbformat": 4,
 "nbformat_minor": 2
}
