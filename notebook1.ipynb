{
 "cells": [
  {
   "cell_type": "markdown",
   "metadata": {},
   "source": [
    "Find the gretest among three integer input by the user(show both method with 'and' and withoutit)"
   ]
  },
  {
   "cell_type": "code",
   "execution_count": 2,
   "metadata": {},
   "outputs": [
    {
     "name": "stdout",
     "output_type": "stream",
     "text": [
      "num1 is: 4\n",
      "num2 is:  5\n",
      "num3 is:  6\n",
      "the greatest number is:  6\n"
     ]
    }
   ],
   "source": [
    "#input is taken by 'input' function\n",
    "num1=int(input(\"Enter num1: \"))\n",
    "print(\"num1 is:\",num1)\n",
    "num2=int(input(\"Enter num2: \"))\n",
    "print(\"num2 is: \",num2)\n",
    "num3=int(input(\"Enter num3: \"))\n",
    "print(\"num3 is: \",num3)\n",
    "\n",
    "if num1>num2 and num1>num3:\n",
    "    print(\"the greatest number is: \",num1)\n",
    "elif num2>num1 and num2>num3:\n",
    "    print(\"the greatest number is: \",num2)\n",
    "else:\n",
    "    print(\"the greatest number is: \",num3)\n"
   ]
  },
  {
   "cell_type": "markdown",
   "metadata": {},
   "source": [
    "Withou using 'and'  operator"
   ]
  },
  {
   "cell_type": "code",
   "execution_count": 10,
   "metadata": {},
   "outputs": [
    {
     "name": "stdout",
     "output_type": "stream",
     "text": [
      "num1 is: 1\n",
      "num2 is:  1\n",
      "num3 is:  2\n",
      "the gretest number is:  2\n"
     ]
    }
   ],
   "source": [
    "#use input\n",
    "num1=int(input(\"Enter num1: \"))\n",
    "print(\"num1 is:\",num1)\n",
    "num2=int(input(\"Enter num2: \"))\n",
    "print(\"num2 is: \",num2)\n",
    "num3=int(input(\"Enter num3: \"))\n",
    "print(\"num3 is: \",num3)\n",
    "#hear we use nested else-if condition\n",
    "\n",
    "if num1>num2:\n",
    "    if num1>num3:\n",
    "        print(\"the gretest number is: \",num1)\n",
    "    else:\n",
    "        print(\"the gretest number is: \",num3)\n",
    "elif num2>num3:\n",
    "    print(\"the gretest number is: \",num2)\n",
    "else:\n",
    "    print(\"the gretest number is: \",num3)\n",
    "    "
   ]
  },
  {
   "cell_type": "markdown",
   "metadata": {},
   "source": [
    "Find approprite weight of a person given the height and gender (input by user)"
   ]
  },
  {
   "cell_type": "code",
   "execution_count": null,
   "metadata": {},
   "outputs": [],
   "source": [
    "#we make a program to calculate weight.\n",
    "#by the help of height\n",
    "#by using Robinson formula\n",
    "print(\"if you are female enter: 0\")\n",
    "print(\"if you are male enter: 1\")\n",
    "gender = int(input(\"enter your gender: \"))\n",
    "#hear height is taking in float b/c height may be desimal in 'inch'\n",
    "height = float(input(\"enter your height in 'inches': \"))\n",
    "#1inch = 2.54cm\n",
    "#height criteria is const. for both so, we use this first\n",
    "if height>60:\n",
    "    if gender ==0:\n",
    "        print(\"you are feMale\")\n",
    "        print(\"your weight is \",49+1.6*height)\n",
    "        \n",
    "    else:\n",
    "        print(\"you are Male\")\n",
    "        print(\"your weight is\",52+1.9*height)    \n",
    "else:\n",
    "    if gender == 1:\n",
    "        print(\"you are Male\")        \n",
    "        print(\"your weight is: 52\")\n",
    "    else:\n",
    "        print(\"you are feMale\")\n",
    "        print(\"your weight is: 49\")"
   ]
  }
 ],
 "metadata": {
  "kernelspec": {
   "display_name": "Python 3",
   "language": "python",
   "name": "python3"
  },
  "language_info": {
   "codemirror_mode": {
    "name": "ipython",
    "version": 3
   },
   "file_extension": ".py",
   "mimetype": "text/x-python",
   "name": "python",
   "nbconvert_exporter": "python",
   "pygments_lexer": "ipython3",
   "version": "3.11.4"
  },
  "orig_nbformat": 4
 },
 "nbformat": 4,
 "nbformat_minor": 2
}
