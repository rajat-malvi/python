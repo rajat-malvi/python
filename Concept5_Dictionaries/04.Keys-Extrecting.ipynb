{
 "cells": [
  {
   "cell_type": "markdown",
   "metadata": {},
   "source": [
    "# Create a new dictionary so that it only has the keys mentioned in another list\n",
    "sample_dict = { “name”: “Kelly”, “age”: 25, “salary”: 8000, “city”: “New york”}\n",
    "# Keys to extract\n",
    "keys = [“name”, “salary”]"
   ]
  },
  {
   "cell_type": "code",
   "execution_count": 3,
   "metadata": {},
   "outputs": [
    {
     "name": "stdout",
     "output_type": "stream",
     "text": [
      "{'name': 'kelly', 'salary': 8000}\n"
     ]
    }
   ],
   "source": [
    "sample_dict={'name':'kelly','age':25,'salary':8000,'city':'New york'}\n",
    "keys=['name','salary','gender']\n",
    "dict1={}               # create dict1 to write key,value extract from keys list \n",
    "# .items() use to execss key and value by using for loop\n",
    "for key,value in sample_dict.items():\n",
    "    # use in operator to check key in keys_list\n",
    "    if key in keys:\n",
    "        dict1[key]=value\n",
    "print(dict1)"
   ]
  },
  {
   "cell_type": "code",
   "execution_count": null,
   "metadata": {},
   "outputs": [],
   "source": []
  }
 ],
 "metadata": {
  "kernelspec": {
   "display_name": "Python 3",
   "language": "python",
   "name": "python3"
  },
  "language_info": {
   "codemirror_mode": {
    "name": "ipython",
    "version": 3
   },
   "file_extension": ".py",
   "mimetype": "text/x-python",
   "name": "python",
   "nbconvert_exporter": "python",
   "pygments_lexer": "ipython3",
   "version": "3.12.0"
  }
 },
 "nbformat": 4,
 "nbformat_minor": 2
}
