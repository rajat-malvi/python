{
 "cells": [
  {
   "cell_type": "markdown",
   "metadata": {},
   "source": [
    "# Remove a key from a dictionary:\n",
    "dict_name.pop(key_name)\n",
    "What does this function return?\n",
    "Use pop to rename a key."
   ]
  },
  {
   "cell_type": "code",
   "execution_count": 1,
   "metadata": {},
   "outputs": [
    {
     "name": "stdout",
     "output_type": "stream",
     "text": [
      "{'a': 2, 'b': 4, 'c': 3}\n",
      "{'a': 2, 'b': 4, 'd': 3}\n"
     ]
    }
   ],
   "source": [
    "dict1={'a':2,'b':4,'c':3,'d':7}\n",
    "dict1.pop('d')\n",
    "print(dict1)\n",
    "\n",
    "# What does this function return?\n",
    "# it return all values accept the value and key that key in dict_name.pop(key_name)\n",
    "\n",
    "#Use pop to rename a key.\n",
    "dict1['d']=dict1.pop('c')\n",
    "print(dict1)"
   ]
  }
 ],
 "metadata": {
  "kernelspec": {
   "display_name": "Python 3",
   "language": "python",
   "name": "python3"
  },
  "language_info": {
   "codemirror_mode": {
    "name": "ipython",
    "version": 3
   },
   "file_extension": ".py",
   "mimetype": "text/x-python",
   "name": "python",
   "nbconvert_exporter": "python",
   "pygments_lexer": "ipython3",
   "version": "3.12.0"
  }
 },
 "nbformat": 4,
 "nbformat_minor": 2
}
