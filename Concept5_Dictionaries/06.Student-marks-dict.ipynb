{
 "cells": [
  {
   "cell_type": "markdown",
   "metadata": {},
   "source": [
    "# Create a dictionary to store the total marks of 5 students in the class in 3 subjects (Course1, Course2, Course3). The keys must be the student names, and the values must be the list of marks. Create another list which has the course names in the same order as the marks are stored in the dictionary values.\n",
    "Now write a nested for loop to print the marks for each student exam wise.\n",
    "Student1\n",
    "Course1 marks : 82\n",
    "Course2 marks : 84\n",
    "Course3 marks : 72\n",
    "Student2\n",
    "Course1 marks : 87\n",
    "Course2 marks : 83\n",
    "Course3 marks : 78"
   ]
  },
  {
   "cell_type": "code",
   "execution_count": 2,
   "metadata": {},
   "outputs": [
    {
     "name": "stdout",
     "output_type": "stream",
     "text": [
      "Ram\n",
      "Python : 80\n",
      "English : 97\n",
      "Maths : 89\n",
      "\n",
      "\n",
      "Rajat\n",
      "Python : 88\n",
      "English : 87\n",
      "Maths : 80\n",
      "\n",
      "\n",
      "Mayank\n",
      "Python : 90\n",
      "English : 97\n",
      "Maths : 70\n",
      "\n",
      "\n",
      "Sndeep\n",
      "Python : 80\n",
      "English : 87\n",
      "Maths : 99\n",
      "\n",
      "\n",
      "Mallesh\n",
      "Python : 83\n",
      "English : 90\n",
      "Maths : 87\n",
      "\n",
      "\n"
     ]
    }
   ],
   "source": [
    "student_dict={}\n",
    "course_lst=['Python','English','Maths']\n",
    "# add all student name in dict with value\n",
    "student_dict['Ram']=[80,97,89]\n",
    "student_dict['Rajat']=[88,87,80]\n",
    "student_dict['Mayank']=[90,97,70]\n",
    "student_dict['Sndeep']=[80,87,99]\n",
    "student_dict['Mallesh']=[83,90,87]\n",
    "# use nested loop\n",
    "# execess key and value by using items() function\n",
    "course_len=len(course_lst)\n",
    "for key,value in student_dict.items():\n",
    "    print(key)\n",
    "    # we use range b/c we need to execess index of value \n",
    "    for i in range(course_len):\n",
    "        print(course_lst[i],\":\",value[i])\n",
    "    print(\"\\n\")"
   ]
  }
 ],
 "metadata": {
  "kernelspec": {
   "display_name": "Python 3",
   "language": "python",
   "name": "python3"
  },
  "language_info": {
   "codemirror_mode": {
    "name": "ipython",
    "version": 3
   },
   "file_extension": ".py",
   "mimetype": "text/x-python",
   "name": "python",
   "nbconvert_exporter": "python",
   "pygments_lexer": "ipython3",
   "version": "3.12.0"
  }
 },
 "nbformat": 4,
 "nbformat_minor": 2
}
