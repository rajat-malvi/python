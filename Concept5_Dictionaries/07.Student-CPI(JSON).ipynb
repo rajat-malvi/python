{
 "cells": [
  {
   "cell_type": "markdown",
   "metadata": {},
   "source": [
    "# Write a for loop to create another dictionary from the above where the marks are replaced by grades. Above 80 is A grade, 60–80 is B grade, 40–60 is C grade, and below 40 is F. Create another dictionary to store the max and average marks for each student. Use this dictionary to compute the final CPI/CGPA of the student. Course1 is of 4 credits, Course2 of 10 credits, and Course3 of 6 credits. Store these credits in a list. Write this dictionary as a json file, and read it back into a new dictionary."
   ]
  },
  {
   "cell_type": "code",
   "execution_count": 1,
   "metadata": {},
   "outputs": [
    {
     "name": "stdout",
     "output_type": "stream",
     "text": [
      "Grade-dictionary=>\n",
      "{'Ram': ['A', 'C', 'A'], 'Rajat': ['B', 'A', 'B'], 'Mayank': ['B', 'F', 'B'], 'Sndeep': ['A', 'C', 'F'], 'Mallesh': ['B', 'F', 'C']}\n",
      "Avg and max-value dictionary=>\n",
      "{'Ram': [89, 72.0], 'Rajat': [87, 75.0], 'Mayank': [75, 54.0], 'Sndeep': [80, 55.333333333333336], 'Mallesh': [63, 46.666666666666664]}\n",
      "Cpi\n",
      "{'Ram': 9.0, 'Rajat': 9.5, 'Mayank': 8.0, 'Sndeep': 8.1, 'Mallesh': 7.7}\n"
     ]
    }
   ],
   "source": [
    "student_dict={'Ram': [80, 47, 89], 'Rajat': [78, 87, 60], 'Mayank': [60, 27, 75], 'Sndeep': [80, 57, 29], 'Mallesh': [63, 20, 57]}\n",
    "grade_dict={}\n",
    "max_avg_dict={}\n",
    "course=['Python','English','Maths']\n",
    "for key,value in student_dict.items():\n",
    "    row=[]\n",
    "    for i in value:\n",
    "        if i>=80:\n",
    "            row.append('A')\n",
    "        elif 80>i and i>=60:\n",
    "            row.append('B')\n",
    "        elif 60>i and i>=40:\n",
    "            row.append('C')\n",
    "        else:\n",
    "            row.append('F')            \n",
    "    grade_dict[key]=row\n",
    "# to calculate max & avg\n",
    "    max_value=max(value)\n",
    "    student_avg=sum(value)/len(course)\n",
    "    max_avg_dict[key]=[max_value,student_avg]\n",
    "#grade-dict\n",
    "print(\"Grade-dictionary=>\")\n",
    "print(grade_dict)\n",
    "#Avg and Max-value\n",
    "print(\"Avg and max-value dictionary=>\")\n",
    "print(max_avg_dict)\n",
    "\n",
    "\n",
    "# CPI/CGPA of the student\n",
    "import json\n",
    "course_cpi=[4,10,6]\n",
    "grade_dict_dict={'A':10,'B':9,'C':8,'F':7}\n",
    "cpi_dict={}\n",
    "for key,value in grade_dict.items():\n",
    "    sum_=0\n",
    "    for i in range(len(course_cpi)):\n",
    "        # for cpi we need sumition(credit_value*grede_value)/grade_value_sum\n",
    "        sum_=sum_+ course_cpi[i]*grade_dict_dict[value[i]]\n",
    "    cpi=sum_/sum(course_cpi)\n",
    "    cpi_dict[key]=cpi\n",
    "# Write in JSON file\n",
    "with open(\"my_jason.json\", \"w\") as file:\n",
    "    json.dump(cpi_dict, file)\n",
    "\n",
    "# Read Dectionary from json \n",
    "with open(\"my_jason.json\", \"r\") as file:\n",
    "    my_jason = json.load(file)\n",
    "#CPI-dict\n",
    "print(\"Cpi\")\n",
    "print(my_jason)"
   ]
  }
 ],
 "metadata": {
  "kernelspec": {
   "display_name": "Python 3",
   "language": "python",
   "name": "python3"
  },
  "language_info": {
   "codemirror_mode": {
    "name": "ipython",
    "version": 3
   },
   "file_extension": ".py",
   "mimetype": "text/x-python",
   "name": "python",
   "nbconvert_exporter": "python",
   "pygments_lexer": "ipython3",
   "version": "3.12.0"
  }
 },
 "nbformat": 4,
 "nbformat_minor": 2
}
