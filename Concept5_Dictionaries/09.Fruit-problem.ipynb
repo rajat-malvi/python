{
 "cells": [
  {
   "cell_type": "markdown",
   "metadata": {},
   "source": [
    "Create a dictionary whose keys are the names of your family members and friends, and the values are the list of fruits they like to eat. Now if the user gives a fruit as input, the code should print the list of names who like this fruit. Write another code to print the list of people who do not like this fruit. Using this dictionary as input, write a code to make a consolidated list of all the fruit names present in the values of various keys. This list should not have any duplicate entries. \n",
    "Do not use the set() function."
   ]
  },
  {
   "cell_type": "code",
   "execution_count": 3,
   "metadata": {},
   "outputs": [
    {
     "name": "stdout",
     "output_type": "stream",
     "text": [
      "people like fruit=> ['Rajat', 'Sandeep']\n",
      "people not like fruit=> ['Rajat', 'Sandeep', 'Mallesh']\n",
      "consolidated list:  ['apple', 'pineple', 'pomigreat', 'banana']\n"
     ]
    }
   ],
   "source": [
    "dict1={'Rajat':['apple','pineple','pomigreat'],'Sandeep':['banana','apple'],'Mallesh':['pineple','banana']}\n",
    "fruit_name=input(\"Enter favourite fruit name: \")\n",
    "\n",
    "fruit_like_lst=[]\n",
    "fruit_dislike_lst=[]\n",
    "consolidated_list=[]\n",
    "for key,value in dict1.items():    \n",
    "    for i in value:\n",
    "        # to make consoladeted list we use not in operator\n",
    "        if i not in consolidated_list:\n",
    "            consolidated_list.append(i)\n",
    "        # check all preson that like fruit\n",
    "        if fruit_name==i:\n",
    "            fruit_like_lst.append(key)\n",
    "        else:\n",
    "            # use not in operator to append only one time the person name\n",
    "            if key not in fruit_dislike_lst:\n",
    "                fruit_dislike_lst.append(key)\n",
    "        \n",
    "\n",
    "print(\"people like fruit=>\",fruit_like_lst)\n",
    "print(\"people not like fruit=>\",fruit_dislike_lst)\n",
    "print(\"consolidated list: \",consolidated_list)"
   ]
  }
 ],
 "metadata": {
  "kernelspec": {
   "display_name": "Python 3",
   "language": "python",
   "name": "python3"
  },
  "language_info": {
   "codemirror_mode": {
    "name": "ipython",
    "version": 3
   },
   "file_extension": ".py",
   "mimetype": "text/x-python",
   "name": "python",
   "nbconvert_exporter": "python",
   "pygments_lexer": "ipython3",
   "version": "3.12.0"
  }
 },
 "nbformat": 4,
 "nbformat_minor": 2
}
