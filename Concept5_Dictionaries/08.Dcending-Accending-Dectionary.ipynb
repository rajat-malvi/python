{
 "cells": [
  {
   "cell_type": "markdown",
   "metadata": {},
   "source": [
    "# Create a dictionary of your marks in various subjects and then sort it by its values first in descending order, and then in or ascending order. Do not use any inbuilt sorting functions"
   ]
  },
  {
   "cell_type": "code",
   "execution_count": 5,
   "metadata": {},
   "outputs": [
    {
     "name": "stdout",
     "output_type": "stream",
     "text": [
      "{'f': 3, 'e': 8, 'a': 8, 'c': 23, 'd': 55, 'b': 98}\n"
     ]
    }
   ],
   "source": [
    "# Ascending order\n",
    "dict1={'a':8,'b':98,'c':23,'d':55,'e':8,'f':3}\n",
    "# create new lists to append key, value form dictinary\n",
    "key_list=[]\n",
    "value_list=[]\n",
    "ascending_dict={}\n",
    "for key,value in dict1.items():\n",
    "    key_list.append(key)\n",
    "    value_list.append(value)    \n",
    "\n",
    "for i in range(len(key_list)):\n",
    "    for j in range(i+1,len(key_list)):\n",
    "        if value_list[i]>=value_list[j]:\n",
    "            # using the concept of sweping of two number\n",
    "            value_list[i],value_list[j]=value_list[j],value_list[i]\n",
    "            key_list[i],key_list[j]=key_list[j],key_list[i]\n",
    "    ascending_dict[key_list[i]]=value_list[i]\n",
    "print(ascending_dict)"
   ]
  },
  {
   "cell_type": "code",
   "execution_count": 6,
   "metadata": {},
   "outputs": [
    {
     "name": "stdout",
     "output_type": "stream",
     "text": [
      "{'b': 98, 'd': 55, 'e': 8, 'a': 8, 'f': 3, 'c': 3}\n"
     ]
    }
   ],
   "source": [
    "# Decending order\n",
    "dict1={'a':8,'b':98,'c':3,'d':55,'e':8,'f':3}\n",
    "# create two new lists to append key, value form dictinary\n",
    "key_list=[]\n",
    "value_list=[]\n",
    "descending_dict={}\n",
    "for key,value in dict1.items():\n",
    "    key_list.append(key)\n",
    "    value_list.append(value)    \n",
    "\n",
    "for i in range(len(key_list)):\n",
    "    for j in range(i+1,len(key_list)):\n",
    "        if value_list[i]<=value_list[j]:\n",
    "            # using the concept of sweping of two number\n",
    "            value_list[i],value_list[j]=value_list[j],value_list[i]\n",
    "            key_list[i],key_list[j]=key_list[j],key_list[i]\n",
    "    descending_dict[key_list[i]]=value_list[i]\n",
    "print(descending_dict)"
   ]
  }
 ],
 "metadata": {
  "kernelspec": {
   "display_name": "Python 3",
   "language": "python",
   "name": "python3"
  },
  "language_info": {
   "codemirror_mode": {
    "name": "ipython",
    "version": 3
   },
   "file_extension": ".py",
   "mimetype": "text/x-python",
   "name": "python",
   "nbconvert_exporter": "python",
   "pygments_lexer": "ipython3",
   "version": "3.12.0"
  }
 },
 "nbformat": 4,
 "nbformat_minor": 2
}
