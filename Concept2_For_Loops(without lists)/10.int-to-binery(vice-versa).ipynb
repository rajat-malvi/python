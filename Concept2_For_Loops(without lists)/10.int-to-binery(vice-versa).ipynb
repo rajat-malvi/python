{
 "cells": [
  {
   "cell_type": "markdown",
   "metadata": {},
   "source": [
    "# Given a positive integer, convert it into binary, and vice-versa."
   ]
  },
  {
   "cell_type": "code",
   "execution_count": 11,
   "metadata": {},
   "outputs": [
    {
     "name": "stdout",
     "output_type": "stream",
     "text": [
      "1100\n"
     ]
    }
   ],
   "source": [
    "# positive integer to binary\n",
    "# using while loop\n",
    "num=12\n",
    "string=\"\"\n",
    "while num>0:\n",
    "    var=str(num%2)\n",
    "    # for reverse the digits we use string variable\n",
    "    string=var+string\n",
    "    num=num//2\n",
    "print(string)"
   ]
  },
  {
   "cell_type": "code",
   "execution_count": 8,
   "metadata": {},
   "outputs": [
    {
     "name": "stdout",
     "output_type": "stream",
     "text": [
      "binery is 1100\n"
     ]
    }
   ],
   "source": [
    "# positive integer to binary\n",
    "# using for loop\n",
    "num1=12\n",
    "reminder=1\n",
    "root_value=int(num1**0.5)\n",
    "binery_str=\"\"\n",
    "if num1==8:\n",
    "        print(\"binery is\",1000)\n",
    "else:\n",
    "        for i in range(root_value+1):\n",
    "                reminder=num1%2\n",
    "                binery_str=str(reminder)+binery_str  # most imp step for this problem.\n",
    "                num1=num1//2\n",
    "        print(\"binery is\",binery_str)"
   ]
  },
  {
   "cell_type": "code",
   "execution_count": 12,
   "metadata": {},
   "outputs": [
    {
     "name": "stdout",
     "output_type": "stream",
     "text": [
      "decimal form is: 12\n"
     ]
    }
   ],
   "source": [
    "# binery to number\n",
    "# using for loop\n",
    "# for reverse list I use [::-1].\n",
    "binery=input(\"enter a binery number\")[::-1]\n",
    "value_sum=0\n",
    "count=0\n",
    "for i in binery:\n",
    "    # use if condition so, only the binery have 1 convert into pow(2,count).\n",
    "    if int(i)==1:\n",
    "        value_sum=value_sum+(2**count)\n",
    "    count+=1\n",
    "print(\"decimal form is:\",value_sum)"
   ]
  }
 ],
 "metadata": {
  "kernelspec": {
   "display_name": "Python 3",
   "language": "python",
   "name": "python3"
  },
  "language_info": {
   "codemirror_mode": {
    "name": "ipython",
    "version": 3
   },
   "file_extension": ".py",
   "mimetype": "text/x-python",
   "name": "python",
   "nbconvert_exporter": "python",
   "pygments_lexer": "ipython3",
   "version": "3.11.4"
  }
 },
 "nbformat": 4,
 "nbformat_minor": 2
}
