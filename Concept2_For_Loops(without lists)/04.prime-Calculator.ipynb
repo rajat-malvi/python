{
 "cells": [
  {
   "cell_type": "markdown",
   "metadata": {},
   "source": [
    "# Given a positive integer, find out if it’s prime or not."
   ]
  },
  {
   "cell_type": "code",
   "execution_count": 16,
   "metadata": {},
   "outputs": [
    {
     "name": "stdout",
     "output_type": "stream",
     "text": [
      "1 is not prime\n"
     ]
    }
   ],
   "source": [
    "prime_num=1\n",
    "root=int(prime_num**0.5)\n",
    "count=0\n",
    "# for increasing efficiency we only run loop upto root of the number\n",
    "for x in range(2,root+1):\n",
    "    # if x is completly divide number then number is not prime\n",
    "    if prime_num % x==0:\n",
    "        count=count+1\n",
    "# count variable declare to check condition of prime or not\n",
    "if prime_num==1:\n",
    "    print(prime_num,\"is not prime\")\n",
    "elif count==0:\n",
    "    print(prime_num,\"is prime\")\n",
    "else:\n",
    "    print(prime_num,\"is not prime\")"
   ]
  }
 ],
 "metadata": {
  "kernelspec": {
   "display_name": "Python 3",
   "language": "python",
   "name": "python3"
  },
  "language_info": {
   "codemirror_mode": {
    "name": "ipython",
    "version": 3
   },
   "file_extension": ".py",
   "mimetype": "text/x-python",
   "name": "python",
   "nbconvert_exporter": "python",
   "pygments_lexer": "ipython3",
   "version": "3.11.4"
  }
 },
 "nbformat": 4,
 "nbformat_minor": 2
}
